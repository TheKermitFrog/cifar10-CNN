{
 "cells": [
  {
   "cell_type": "code",
   "execution_count": 48,
   "metadata": {},
   "outputs": [],
   "source": [
    "import pandas as pd\n",
    "import numpy as np\n",
    "import matplotlib.pyplot as plt\n",
    "from tensorflow.keras import Sequential, Input\n",
    "from tensorflow.keras.layers import Conv2D, MaxPooling2D, Flatten, Dense\n",
    "from tensorflow.keras.optimizers import Adam, SGD\n",
    "from tensorflow.keras.utils import to_categorical\n",
    "from tensorflow.keras.datasets import cifar10"
   ]
  },
  {
   "cell_type": "code",
   "execution_count": 49,
   "metadata": {},
   "outputs": [
    {
     "name": "stdout",
     "output_type": "stream",
     "text": [
      "Training Set: X: (50000, 32, 32, 3), y: (50000, 10)\n",
      "Testing Set: X: (10000, 32, 32, 3), y: (10000, 1)\n"
     ]
    }
   ],
   "source": [
    "# data loading functions\n",
    "\n",
    "def load_cifar10():\n",
    "    # load dataset\n",
    "    (trainX, trainy), (testX, testy) = cifar10.load_data()\n",
    "    \n",
    "    trainY, testY = to_categorical(trainy), to_categorical(testy)\n",
    "    # summarize data \n",
    "    print('Training Set: X: {}, y: {}'.format(trainX.shape, trainY.shape))\n",
    "    print('Testing Set: X: {}, y: {}'.format(testX.shape, testy.shape))\n",
    "    return trainX, trainY, testX, testY\n",
    "\n",
    "def normalize(trainX, testX):\n",
    "    '''\n",
    "    Normalize images to have values between 0 and 1\n",
    "    '''\n",
    "    trainX_norm, testX_norm = trainX.astype('float32') / 255.0, testX.astype('float32') / 255.0\n",
    "    return trainX_norm, testX_norm\n",
    "\n",
    "def load_and_preprocess():\n",
    "    trainX, trainY, testX, testY = load_cifar10()\n",
    "    trainX_norm, testX_norm = normalize(trainX, testX)\n",
    "    \n",
    "    return trainX_norm, trainY, testX_norm, testY\n",
    "\n",
    "trainX_norm, trainY, testX_norm, testY = load_and_preprocess()\n",
    "# print first 4 image\n",
    "# for i in range(4):\n",
    "#     plt.subplot(221 + i)\n",
    "#     plt.imshow(trainX[i])\n",
    "\n",
    "# plt.show()"
   ]
  },
  {
   "cell_type": "code",
   "execution_count": 54,
   "metadata": {},
   "outputs": [
    {
     "data": {
      "text/plain": [
       "'base3'"
      ]
     },
     "execution_count": 54,
     "metadata": {},
     "output_type": "execute_result"
    }
   ],
   "source": [
    "def build_model_base1():\n",
    "    model = Sequential()\n",
    "    model.add(Input(shape=(32, 32, 3))) \n",
    "    model.add(Conv2D(32, (3, 3), strides=1, padding='same', activation='relu'))\n",
    "    model.add(Conv2D(32, (3, 3), strides=1, padding='same', activation='relu'))\n",
    "    model.add(MaxPooling2D(2, 2))\n",
    "    model.add(Flatten())\n",
    "    model.add(Dense(256, activation='relu'))\n",
    "    model.add(Dense(256, activation='relu'))\n",
    "    model.add(Dense(10, activation='softmax'))\n",
    "    opt = Adam(learning_rate=0.001)\n",
    "    model.compile(loss='categorical_crossentropy', optimizer=opt, metrics=['accuracy'])\n",
    "    \n",
    "    return model\n",
    "\n",
    "def build_model_base2():\n",
    "    model = Sequential()\n",
    "    model.add(Input(shape=(32, 32, 3))) \n",
    "    model.add(Conv2D(32, (3, 3), strides=1, padding='same', activation='relu'))\n",
    "    model.add(Conv2D(32, (3, 3), strides=1, padding='same', activation='relu'))\n",
    "    model.add(MaxPooling2D(2, 2))\n",
    "    model.add(Conv2D(64, (3, 3), strides=1, padding='same', activation='relu'))\n",
    "    model.add(Conv2D(64, (3, 3), strides=1, padding='same', activation='relu'))\n",
    "    model.add(MaxPooling2D(2, 2))\n",
    "    model.add(Flatten())\n",
    "    model.add(Dense(256, activation='relu'))\n",
    "    model.add(Dense(256, activation='relu'))\n",
    "    model.add(Dense(10, activation='softmax'))\n",
    "    opt = Adam(learning_rate=0.001)\n",
    "    model.compile(loss='categorical_crossentropy', optimizer=opt, metrics=['accuracy'])\n",
    "    \n",
    "    return model\n",
    "\n",
    "def build_model_base3():\n",
    "    model = Sequential()\n",
    "    model.add(Input(shape=(32, 32, 3))) \n",
    "    model.add(Conv2D(32, (3, 3), strides=1, padding='same', activation='relu'))\n",
    "    model.add(Conv2D(32, (3, 3), strides=1, padding='same', activation='relu'))\n",
    "    model.add(MaxPooling2D(2, 2))\n",
    "    model.add(Conv2D(64, (3, 3), strides=1, padding='same', activation='relu'))\n",
    "    model.add(Conv2D(64, (3, 3), strides=1, padding='same', activation='relu'))\n",
    "    model.add(MaxPooling2D(2, 2))\n",
    "    model.add(Conv2D(128, (3, 3), strides=1, padding='same', activation='relu'))\n",
    "    model.add(Conv2D(128, (3, 3), strides=1, padding='same', activation='relu'))\n",
    "    model.add(MaxPooling2D(2, 2))\n",
    "    model.add(Flatten())\n",
    "    model.add(Dense(256, activation='relu'))\n",
    "    model.add(Dense(256, activation='relu'))\n",
    "    model.add(Dense(10, activation='softmax'))\n",
    "    opt = Adam(learning_rate=0.001)\n",
    "    model.compile(loss='categorical_crossentropy', optimizer=opt, metrics=['accuracy'])\n",
    "    \n",
    "    return model"
   ]
  },
  {
   "cell_type": "code",
   "execution_count": 51,
   "metadata": {},
   "outputs": [
    {
     "data": {
      "image/png": "[encoded data removed]",
      "text/plain": [
       "<Figure size 432x288 with 2 Axes>"
      ]
     },
     "metadata": {
      "needs_background": "light"
     },
     "output_type": "display_data"
    }
   ],
   "source": [
    "def plot_history(history, model_name):\n",
    "    '''\n",
    "    Create 2 subplots:\n",
    "    1. epoch v.s. training/testing loss \n",
    "    2. epoch v.s. training/testing accuracy\n",
    "    '''\n",
    "    fig, ax = plt.subplots(2, 2)\n",
    "    plt.subplot(211)\n",
    "    plt.plot(history.history['loss'], color='blue', label='taining')\n",
    "    plt.plot(history.history['val_loss'], color='orange', label='testing')\n",
    "    plt.xlabel('Epoch')\n",
    "    plt.ylabel('Cross Entropy Loss')\n",
    "    plt.title('Cross Entropy Loss - ' + model_name)\n",
    "    plt.legend()\n",
    "    plt.subplot(212)\n",
    "    plt.plot(history.history['accuracy'], color='blue', label='taining')\n",
    "    plt.plot(history.history['val_accuracy'], color='orange', label='testing')\n",
    "    plt.xlabel('Epoch')\n",
    "    plt.ylabel('Accuracy')\n",
    "    plt.title('Accuracy - ' + model_name)\n",
    "    plt.legend()\n",
    "\n",
    "    fig.tight_layout()\n",
    "    plt.savefig(model_name + '_plot.png', dpi=300)\n",
    "    plt.show()\n",
    "    plt.close()\n",
    "\n",
    "# model = build_model()\n",
    "# # fit\n",
    "# history = model.fit(trainX_norm, trainY, epochs=1, batch_size=64, validation_data=(testX_norm, testY), verbose=1)\n",
    "# # evaluate\n",
    "# loss, acc = model.evaluate(testX_norm, testY, verbose=0)\n",
    "# print('> Testing accuracy: {}%'.format(round(acc, 4) * 100))\n",
    "plot_history(history, 'teno')"
   ]
  },
  {
   "cell_type": "code",
   "execution_count": 61,
   "metadata": {},
   "outputs": [],
   "source": [
    "def train_and_validate(model):\n",
    "    # load data \n",
    "    trainX, trainY, testX, testY = load_cifar10()\n",
    "    # normalize\n",
    "    trainX_norm, testX_norm = normalize(trainX, testX)\n",
    "    \n",
    "    model_name = model.__name__[12:]\n",
    "    # define model\n",
    "    model = model()\n",
    "    # fit\n",
    "    print('Training ' + model_name + ' model')\n",
    "    history = model.fit(trainX_norm, trainY, epochs=1, batch_size=64, validation_data=(testX_norm, testY), verbose=0)\n",
    "    # evaluate\n",
    "    loss, acc = model.evaluate(testX_norm, testY, verbose=0)\n",
    "    \n",
    "    print('> Testing accuracy - {}: {}%'.format(model_name, round(acc, 4) * 100))\n",
    "    \n",
    "    print('Saving model...')\n",
    "    model.save(model_name)\n",
    "    print('Model Saved')\n",
    "    \n",
    "    plot_history(history, model_name)\n",
    "    return model"
   ]
  },
  {
   "cell_type": "code",
   "execution_count": 59,
   "metadata": {},
   "outputs": [
    {
     "name": "stdout",
     "output_type": "stream",
     "text": [
      "Training Set: X: (50000, 32, 32, 3), y: (50000, 10)\n",
      "Testing Set: X: (10000, 32, 32, 3), y: (10000, 1)\n",
      "Training base3 model\n",
      "> Testing accuracy - base3: 10.0%\n"
     ]
    },
    {
     "data": {
      "image/png": "[encoded data removed]",
      "text/plain": [
       "<Figure size 432x288 with 2 Axes>"
      ]
     },
     "metadata": {
      "needs_background": "light"
     },
     "output_type": "display_data"
    }
   ],
   "source": [
    "model = train_and_validate(build_model_base3)"
   ]
  },
  {
   "cell_type": "code",
   "execution_count": null,
   "metadata": {},
   "outputs": [],
   "source": []
  }
 ],
 "metadata": {
  "kernelspec": {
   "display_name": "Python 3",
   "language": "python",
   "name": "python3"
  },
  "language_info": {
   "codemirror_mode": {
    "name": "ipython",
    "version": 3
   },
   "file_extension": ".py",
   "mimetype": "text/x-python",
   "name": "python",
   "nbconvert_exporter": "python",
   "pygments_lexer": "ipython3",
   "version": "3.7.3"
  }
 },
 "nbformat": 4,
 "nbformat_minor": 2
}
